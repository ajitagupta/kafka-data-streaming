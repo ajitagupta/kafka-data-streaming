pip install kafka-python
import pandas as pd
from kafka import KafkaProducer
from time import sleep
from json import dumps
import json
producer = KafkaProducer(bootstrap_servers=['13.201.48.76:9092'],
                         value_serializer=lambda x:
                         dumps(x).encode('utf-8'))
producer.send('<topic_name>' , value="{'i love kafka' : 'world'}")
